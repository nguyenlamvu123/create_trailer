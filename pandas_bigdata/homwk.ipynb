{
 "cells": [
  {
   "cell_type": "code",
   "execution_count": 2,
   "metadata": {},
   "outputs": [],
   "source": [
    "import pandas as pd"
   ]
  },
  {
   "cell_type": "code",
   "execution_count": 3,
   "metadata": {},
   "outputs": [],
   "source": [
    "class Baitapbuoi4:\n",
    "    \n",
    "    danhsach = []\n",
    "    def __init__(self,\n",
    "##                 danhsach = [],\n",
    "##                 lissst = [],\n",
    "##                 nhhhan = [''],\n",
    "                 ):\n",
    "##        self.danhsach = danhsach \n",
    "##        self.lissst = lissst\n",
    "##        self.nhhhan = nhhhan\n",
    "        pass \n",
    "    def Ex2_createSeries(\n",
    "        self,\n",
    "        lissst = [],\n",
    "        ):\n",
    "        return self.danhsach.append(\n",
    "            pd.Series(\n",
    "                lissst,\n",
    "                )\n",
    "            )\n",
    "    def Ex2_createdf(self):\n",
    "        return pd.DataFrame(\n",
    "            self.danhsach,\n",
    "##            columns=[],\n",
    "##            index=[\"first_name\", \"last_name\", \"age\", \"job\", \"country\"],\n",
    "            )\n",
    "    \n",
    "    def Ex2_csv(\n",
    "        self,\n",
    "        ):\n",
    "        return self.Ex2_createdf().to_csv('out.csv')\n",
    "    def Ex3(self):\n",
    "        df = pd.read_csv('out.csv')\n",
    "        df.loc[0] = df.loc[0].astype(str)+ '#'#\"my_first_name\"\n",
    "        df.loc[1] = df.loc[1].astype(str)+ '@'#\"my_last_name\"\n",
    "        print('Ex3: ', df.to_string())\n",
    "        return self.Ex4(df)\n",
    "    def Ex4(\n",
    "        self,\n",
    "        df\n",
    "        ):\n",
    "##        df = self.Ex3()\n",
    "        print(\n",
    "            'all rows whose \"country\" is \"Vietnam\"', \n",
    "            df.loc[\n",
    "                :,\n",
    "                df.loc[4]==\"Vietnam\"\n",
    "                ],\n",
    "            )\n",
    "        print(\n",
    "            'all rows whose \"country\" is not \"Vietnam\"',\n",
    "            df.loc[\n",
    "                :,\n",
    "                df.loc[4]!=\"Vietnam\"\n",
    "                ],\n",
    "            )\n",
    "        print(\n",
    "            'all rows whose \"age\" is lower than 20',\n",
    "            df.loc[\n",
    "                :,\n",
    "                df.loc[2].astype(int)<20\n",
    "                ],\n",
    "            )\n",
    "        \n",
    "##    for s in danhsach:\n",
    "##        print(s)            \n",
    "s1 = []\n",
    "for zs in [\"first_name\", \"last_name\", \"age\", \"job\", \"country\"]:\n",
    "    ss = [zs+ str(i) for i in range(1,11) if zs != \"age\"]\n",
    "    if zs == \"country\":\n",
    "        ss[3] = \"Vietnam\"\n",
    "    elif zs == \"age\":\n",
    "        ss = [20+ ii for ii in range(-12, 38, 5)]\n",
    "    s1.append(ss)#;print(ss)"
   ]
  },
  {
   "cell_type": "code",
   "execution_count": 4,
   "metadata": {},
   "outputs": [
    {
     "ename": "AttributeError",
     "evalue": "module 'pandas' has no attribute 'Series'",
     "output_type": "error",
     "traceback": [
      "\u001b[1;31m---------------------------------------------------------------------------\u001b[0m",
      "\u001b[1;31mAttributeError\u001b[0m                            Traceback (most recent call last)",
      "\u001b[1;32m<ipython-input-4-b56efb59bec9>\u001b[0m in \u001b[0;36m<module>\u001b[1;34m\u001b[0m\n\u001b[0;32m      2\u001b[0m \u001b[1;32mfor\u001b[0m \u001b[0mss\u001b[0m \u001b[1;32min\u001b[0m \u001b[0ms1\u001b[0m\u001b[1;33m:\u001b[0m\u001b[1;33m\u001b[0m\u001b[1;33m\u001b[0m\u001b[0m\n\u001b[0;32m      3\u001b[0m     s.Ex2_createSeries(\n\u001b[1;32m----> 4\u001b[1;33m         \u001b[0mlissst\u001b[0m \u001b[1;33m=\u001b[0m \u001b[0mss\u001b[0m\u001b[1;33m,\u001b[0m\u001b[1;33m\u001b[0m\u001b[1;33m\u001b[0m\u001b[0m\n\u001b[0m\u001b[0;32m      5\u001b[0m         )\n\u001b[0;32m      6\u001b[0m \u001b[1;31m##for ss in s.danhsach:\u001b[0m\u001b[1;33m\u001b[0m\u001b[1;33m\u001b[0m\u001b[1;33m\u001b[0m\u001b[0m\n",
      "\u001b[1;32m<ipython-input-3-f56b29172d51>\u001b[0m in \u001b[0;36mEx2_createSeries\u001b[1;34m(self, lissst)\u001b[0m\n\u001b[0;32m     16\u001b[0m         ):\n\u001b[0;32m     17\u001b[0m         return self.danhsach.append(\n\u001b[1;32m---> 18\u001b[1;33m             pd.Series(\n\u001b[0m\u001b[0;32m     19\u001b[0m                 \u001b[0mlissst\u001b[0m\u001b[1;33m,\u001b[0m\u001b[1;33m\u001b[0m\u001b[1;33m\u001b[0m\u001b[0m\n\u001b[0;32m     20\u001b[0m                 )\n",
      "\u001b[1;31mAttributeError\u001b[0m: module 'pandas' has no attribute 'Series'"
     ]
    }
   ],
   "source": [
    "s = Baitapbuoi4()\n",
    "for ss in s1:\n",
    "    s.Ex2_createSeries(\n",
    "        lissst = ss,\n",
    "        )\n",
    "##for ss in s.danhsach:\n",
    "##    print(ss)\n",
    "####print(s.Ex2_createdf().to_string())\n",
    "####s.Ex2_csv()\n",
    "####s.Ex3()"
   ]
  },
  {
   "cell_type": "code",
   "execution_count": null,
   "metadata": {},
   "outputs": [],
   "source": []
  }
 ],
 "metadata": {
  "kernelspec": {
   "display_name": "Python 3",
   "language": "python",
   "name": "python3"
  },
  "language_info": {
   "codemirror_mode": {
    "name": "ipython",
    "version": 3
   },
   "file_extension": ".py",
   "mimetype": "text/x-python",
   "name": "python",
   "nbconvert_exporter": "python",
   "pygments_lexer": "ipython3",
   "version": "3.6.8"
  }
 },
 "nbformat": 4,
 "nbformat_minor": 2
}
